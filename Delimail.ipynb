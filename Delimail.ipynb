{
 "cells": [
  {
   "cell_type": "markdown",
   "metadata": {},
   "source": [
    "1. #Data Loading and Cleaning."
   ]
  },
  {
   "cell_type": "code",
   "execution_count": 38,
   "metadata": {},
   "outputs": [
    {
     "name": "stdout",
     "output_type": "stream",
     "text": [
      "    1670db7f463402085dc9e319887ec36@sentry.io\n",
      "0  02771ae4fb8345059dde74cebb9c346b@sentry.io\n",
      "1                       06info@bimsonline.net\n",
      "2              0701948999helencacen@yahoo.com\n",
      "3               0702640826muz1992@yahoo.co.uk\n",
      "4             0702984021egesabogere@yahoo.com\n"
     ]
    }
   ],
   "source": [
    "#load dataset\n",
    "import pandas as pd\n",
    "\n",
    "file_path = r'C:\\Users\\PC\\Downloads\\Delimail.csv'\n",
    "df = pd.read_csv(file_path)\n",
    "print(df.head())\n"
   ]
  },
  {
   "cell_type": "code",
   "execution_count": 41,
   "metadata": {},
   "outputs": [
    {
     "name": "stdout",
     "output_type": "stream",
     "text": [
      "<class 'pandas.core.frame.DataFrame'>\n",
      "RangeIndex: 119099 entries, 0 to 119098\n",
      "Data columns (total 1 columns):\n",
      " #   Column                                     Non-Null Count   Dtype \n",
      "---  ------                                     --------------   ----- \n",
      " 0   1670db7f463402085dc9e319887ec36@sentry.io  119099 non-null  object\n",
      "dtypes: object(1)\n",
      "memory usage: 930.6+ KB\n",
      "Data info None\n"
     ]
    }
   ],
   "source": [
    "#information about the dataset\n",
    "print('Data info', df.info())"
   ]
  },
  {
   "cell_type": "code",
   "execution_count": 40,
   "metadata": {},
   "outputs": [
    {
     "ename": "ModuleNotFoundError",
     "evalue": "No module named 'scipy'",
     "output_type": "error",
     "traceback": [
      "\u001b[1;31m---------------------------------------------------------------------------\u001b[0m",
      "\u001b[1;31mModuleNotFoundError\u001b[0m                       Traceback (most recent call last)",
      "Cell \u001b[1;32mIn[40], line 3\u001b[0m\n\u001b[0;32m      1\u001b[0m \u001b[38;5;66;03m#dataset indo\u001b[39;00m\n\u001b[0;32m      2\u001b[0m \u001b[38;5;28;01mimport\u001b[39;00m \u001b[38;5;21;01mpandas\u001b[39;00m \u001b[38;5;28;01mas\u001b[39;00m \u001b[38;5;21;01mpd\u001b[39;00m\n\u001b[1;32m----> 3\u001b[0m \u001b[38;5;28;01mfrom\u001b[39;00m \u001b[38;5;21;01mscipy\u001b[39;00m\u001b[38;5;21;01m.\u001b[39;00m\u001b[38;5;21;01mstats\u001b[39;00m \u001b[38;5;28;01mimport\u001b[39;00m zscore\n\u001b[0;32m      5\u001b[0m \u001b[38;5;66;03m# Load the CSV file into a DataFrame\u001b[39;00m\n\u001b[0;32m      6\u001b[0m file_path \u001b[38;5;241m=\u001b[39m \u001b[38;5;124mr\u001b[39m\u001b[38;5;124m'\u001b[39m\u001b[38;5;124mC:\u001b[39m\u001b[38;5;124m\\\u001b[39m\u001b[38;5;124mUsers\u001b[39m\u001b[38;5;124m\\\u001b[39m\u001b[38;5;124mPC\u001b[39m\u001b[38;5;124m\\\u001b[39m\u001b[38;5;124mDownloads\u001b[39m\u001b[38;5;124m\\\u001b[39m\u001b[38;5;124mDelimail.csv\u001b[39m\u001b[38;5;124m'\u001b[39m\n",
      "\u001b[1;31mModuleNotFoundError\u001b[0m: No module named 'scipy'"
     ]
    }
   ],
   "source": [
    "#dataset indo\n",
    "import pandas as pd\n",
    "from scipy.stats import zscore\n",
    "\n",
    "# Load the CSV file into a DataFrame\n",
    "file_path = r'C:\\Users\\PC\\Downloads\\Delimail.csv'\n",
    "df = pd.read_csv(file_path)\n",
    "\n",
    "# Print first few rows\n",
    "print(\"First few rows:\")\n",
    "print(df.head())\n",
    "\n",
    "# Display information about the DataFrame\n",
    "print(\"\\nInformation about the DataFrame:\")\n",
    "print(df.info())\n",
    "\n",
    "# Display summary statistics for numerical columns\n",
    "print(\"\\nSummary statistics:\")\n",
    "print(df.describe())\n",
    "\n",
    "# Check for and display duplicate rows\n",
    "duplicates = df[df.duplicated()]\n",
    "print(\"\\nDuplicate rows:\")\n",
    "print(duplicates)\n",
    "\n",
    "# Remove duplicates and keep the first occurrence\n",
    "df_unique = df.drop_duplicates()\n",
    "print(f\"\\nNumber of rows after removing duplicates: {len(df_unique)}\")\n",
    "\n",
    "# Calculate Z-score for numerical columns\n",
    "z_scores = zscore(df.select_dtypes(include='number'))\n",
    "\n",
    "# Identify outliers (considering Z-score threshold as 3)\n",
    "outliers = df[(z_scores > 3).any(axis=1)]\n",
    "print(\"\\nRows with outliers (based on Z-score > 3):\")\n",
    "print(outliers)\n"
   ]
  },
  {
   "cell_type": "code",
   "execution_count": 30,
   "metadata": {},
   "outputs": [],
   "source": [
    "import smtplib\n",
    "import dns.resolver\n",
    "import concurrent.futures\n",
    "import logging\n",
    "\n",
    "#Configure logging\n",
    "\n",
    "logging.basicConfig(level=logging.INFO, format= '%(asctime)s - %(levelname)s - %(message)s')\n",
    "def verify_email(email):\n",
    "    try:\n",
    "        domain = email.split('@')[1]\n",
    "        records = dns.resolver.resolve(domain, 'MX')\n",
    "        mx_record = records[0].exchange.to_text()\n",
    "\n",
    "        server = smtplib. SMTP(timeout=10)\n",
    "        server.set_debuglevel(0)\n",
    "\n",
    "        server.connect(mx_record)\n",
    "        server.hello(server.local_hostname)\n",
    "        server.mail('info@delight.ac.ke')\n",
    "        code, message = server.rcpt(email)\n",
    "        server.quit()\n",
    "\n",
    "        return code == 250\n",
    "    except Exception as e:\n",
    "        logging.error(f'Error verifying {email}: {e}')\n",
    "        return False\n",
    "    \n",
    "\n",
    "#verifying bulk emails\n",
    "def verifying_bulk_emails(email_list, max_workers=10):\n",
    "    valid_emails = []\n",
    "    with concurrent.futures.ThreadPoolExecutor(max_workers=max_workers) as executor:\n",
    "        future_to_email = {executor.submit(verify_email, email): email for email in email_list}\n",
    "        for future in concurrent.futures.as_completed(future_to_email):\n",
    "            email = future_to_email[future]\n",
    "            try:\n",
    "                if future.result():\n",
    "                    valid_emails.append(email)\n",
    "            except exception as e:\n",
    "                logging.error(f'Error processing future for {email}:{e}')\n",
    "    return valid_emails"
   ]
  },
  {
   "cell_type": "code",
   "execution_count": null,
   "metadata": {},
   "outputs": [],
   "source": []
  },
  {
   "cell_type": "code",
   "execution_count": null,
   "metadata": {},
   "outputs": [],
   "source": []
  }
 ],
 "metadata": {
  "kernelspec": {
   "display_name": "venv",
   "language": "python",
   "name": "python3"
  },
  "language_info": {
   "codemirror_mode": {
    "name": "ipython",
    "version": 3
   },
   "file_extension": ".py",
   "mimetype": "text/x-python",
   "name": "python",
   "nbconvert_exporter": "python",
   "pygments_lexer": "ipython3",
   "version": "3.10.10"
  }
 },
 "nbformat": 4,
 "nbformat_minor": 2
}
